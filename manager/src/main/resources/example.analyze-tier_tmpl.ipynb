{
 "cells": [
  {
   "cell_type": "code",
   "execution_count": null,
   "id": "4cc9b205-63b0-45f6-9034-a85717af6092",
   "metadata": {},
   "outputs": [],
   "source": [
    "!pwd"
   ]
  },
  {
   "cell_type": "code",
   "execution_count": null,
   "id": "f018143b-1b6c-4527-8412-a6ef91f8f632",
   "metadata": {},
   "outputs": [],
   "source": [
    "#!python3 -m pip install pandas==1.3.4\n",
    "#!python3 -m pip install matplotlib==3.5.0"
   ]
  },
  {
   "cell_type": "code",
   "execution_count": null,
   "id": "e6d61992-5f7b-45d3-8914-8715623f6973",
   "metadata": {},
   "outputs": [],
   "source": [
    "import pandas"
   ]
  },
  {
   "cell_type": "code",
   "execution_count": null,
   "id": "23f8a4f8-3461-4238-9c36-5541193b743b",
   "metadata": {},
   "outputs": [],
   "source": [
    "sample = pandas.read_json('$jsonFilePath', lines=True)"
   ]
  },
  {
   "cell_type": "code",
   "execution_count": null,
   "id": "017c48c2-88c8-4227-ba0b-1b6f54cfedf6",
   "metadata": {},
   "outputs": [],
   "source": [
    "sample"
   ]
  },
  {
   "cell_type": "code",
   "execution_count": null,
   "id": "92a20754-2111-4088-9487-7389c1c1ca0a",
   "metadata": {},
   "outputs": [],
   "source": []
  },
  {
   "cell_type": "code",
   "execution_count": null,
   "id": "5a642eb1-9dd5-48ee-a9b2-cd758e218fd7",
   "metadata": {},
   "outputs": [],
   "source": []
  }
 ],
 "metadata": {
  "kernelspec": {
   "display_name": "Python 3 (ipykernel)",
   "language": "python",
   "name": "python3"
  },
  "language_info": {
   "codemirror_mode": {
    "name": "ipython",
    "version": 3
   },
   "file_extension": ".py",
   "mimetype": "text/x-python",
   "name": "python",
   "nbconvert_exporter": "python",
   "pygments_lexer": "ipython3",
   "version": "3.9.5"
  }
 },
 "nbformat": 4,
 "nbformat_minor": 5
}