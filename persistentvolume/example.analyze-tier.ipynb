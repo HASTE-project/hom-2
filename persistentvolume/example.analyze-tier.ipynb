{
 "cells": [
  {
   "cell_type": "code",
   "execution_count": 5,
   "id": "4cc9b205-63b0-45f6-9034-a85717af6092",
   "metadata": {},
   "outputs": [
    {
     "name": "stdout",
     "output_type": "stream",
     "text": [
      "/data\n"
     ]
    }
   ],
   "source": [
    "!pwd"
   ]
  },
  {
   "cell_type": "code",
   "execution_count": 6,
   "id": "f018143b-1b6c-4527-8412-a6ef91f8f632",
   "metadata": {},
   "outputs": [],
   "source": [
    "#!python3 -m pip install pandas==1.3.4\n",
    "#!python3 -m pip install matplotlib==3.5.0"
   ]
  },
  {
   "cell_type": "code",
   "execution_count": 5,
   "id": "e6d61992-5f7b-45d3-8914-8715623f6973",
   "metadata": {},
   "outputs": [],
   "source": [
    "import pandas"
   ]
  },
  {
   "cell_type": "code",
   "execution_count": 6,
   "id": "23f8a4f8-3461-4238-9c36-5541193b743b",
   "metadata": {},
   "outputs": [],
   "source": [
    "sample = pandas.read_json('/data/sample-hom-topic-1-40102a4a-ef30-486c-8a28-7263f2088add.jsonl', lines=True)"
   ]
  },
  {
   "cell_type": "code",
   "execution_count": 7,
   "id": "017c48c2-88c8-4227-ba0b-1b6f54cfedf6",
   "metadata": {},
   "outputs": [
    {
     "data": {
      "text/html": [
       "<div>\n",
       "<style scoped>\n",
       "    .dataframe tbody tr th:only-of-type {\n",
       "        vertical-align: middle;\n",
       "    }\n",
       "\n",
       "    .dataframe tbody tr th {\n",
       "        vertical-align: top;\n",
       "    }\n",
       "\n",
       "    .dataframe thead th {\n",
       "        text-align: right;\n",
       "    }\n",
       "</style>\n",
       "<table border=\"1\" class=\"dataframe\">\n",
       "  <thead>\n",
       "    <tr style=\"text-align: right;\">\n",
       "      <th></th>\n",
       "      <th>bar</th>\n",
       "      <th>foo</th>\n",
       "      <th>name</th>\n",
       "      <th>id</th>\n",
       "      <th>wibble</th>\n",
       "    </tr>\n",
       "  </thead>\n",
       "  <tbody>\n",
       "    <tr>\n",
       "      <th>0</th>\n",
       "      <td>893.405995</td>\n",
       "      <td>52</td>\n",
       "      <td>obj_4</td>\n",
       "      <td>4</td>\n",
       "      <td>960.575361</td>\n",
       "    </tr>\n",
       "    <tr>\n",
       "      <th>1</th>\n",
       "      <td>302.830540</td>\n",
       "      <td>93</td>\n",
       "      <td>obj_6</td>\n",
       "      <td>6</td>\n",
       "      <td>206.131739</td>\n",
       "    </tr>\n",
       "    <tr>\n",
       "      <th>2</th>\n",
       "      <td>14.674426</td>\n",
       "      <td>72</td>\n",
       "      <td>obj_7</td>\n",
       "      <td>7</td>\n",
       "      <td>664.481340</td>\n",
       "    </tr>\n",
       "    <tr>\n",
       "      <th>3</th>\n",
       "      <td>896.949468</td>\n",
       "      <td>87</td>\n",
       "      <td>obj_9</td>\n",
       "      <td>9</td>\n",
       "      <td>828.707784</td>\n",
       "    </tr>\n",
       "    <tr>\n",
       "      <th>4</th>\n",
       "      <td>589.416714</td>\n",
       "      <td>52</td>\n",
       "      <td>obj_11</td>\n",
       "      <td>11</td>\n",
       "      <td>577.152679</td>\n",
       "    </tr>\n",
       "    <tr>\n",
       "      <th>...</th>\n",
       "      <td>...</td>\n",
       "      <td>...</td>\n",
       "      <td>...</td>\n",
       "      <td>...</td>\n",
       "      <td>...</td>\n",
       "    </tr>\n",
       "    <tr>\n",
       "      <th>495</th>\n",
       "      <td>371.870771</td>\n",
       "      <td>70</td>\n",
       "      <td>obj_1044</td>\n",
       "      <td>1044</td>\n",
       "      <td>675.810070</td>\n",
       "    </tr>\n",
       "    <tr>\n",
       "      <th>496</th>\n",
       "      <td>821.966959</td>\n",
       "      <td>65</td>\n",
       "      <td>obj_1045</td>\n",
       "      <td>1045</td>\n",
       "      <td>212.992235</td>\n",
       "    </tr>\n",
       "    <tr>\n",
       "      <th>497</th>\n",
       "      <td>482.159115</td>\n",
       "      <td>72</td>\n",
       "      <td>obj_1046</td>\n",
       "      <td>1046</td>\n",
       "      <td>394.634895</td>\n",
       "    </tr>\n",
       "    <tr>\n",
       "      <th>498</th>\n",
       "      <td>5.922962</td>\n",
       "      <td>59</td>\n",
       "      <td>obj_1047</td>\n",
       "      <td>1047</td>\n",
       "      <td>554.241411</td>\n",
       "    </tr>\n",
       "    <tr>\n",
       "      <th>499</th>\n",
       "      <td>563.668377</td>\n",
       "      <td>89</td>\n",
       "      <td>obj_1049</td>\n",
       "      <td>1049</td>\n",
       "      <td>173.719133</td>\n",
       "    </tr>\n",
       "  </tbody>\n",
       "</table>\n",
       "<p>500 rows × 5 columns</p>\n",
       "</div>"
      ],
      "text/plain": [
       "            bar  foo      name    id      wibble\n",
       "0    893.405995   52     obj_4     4  960.575361\n",
       "1    302.830540   93     obj_6     6  206.131739\n",
       "2     14.674426   72     obj_7     7  664.481340\n",
       "3    896.949468   87     obj_9     9  828.707784\n",
       "4    589.416714   52    obj_11    11  577.152679\n",
       "..          ...  ...       ...   ...         ...\n",
       "495  371.870771   70  obj_1044  1044  675.810070\n",
       "496  821.966959   65  obj_1045  1045  212.992235\n",
       "497  482.159115   72  obj_1046  1046  394.634895\n",
       "498    5.922962   59  obj_1047  1047  554.241411\n",
       "499  563.668377   89  obj_1049  1049  173.719133\n",
       "\n",
       "[500 rows x 5 columns]"
      ]
     },
     "execution_count": 7,
     "metadata": {},
     "output_type": "execute_result"
    }
   ],
   "source": [
    "sample"
   ]
  },
  {
   "cell_type": "code",
   "execution_count": 8,
   "id": "1aa3c562-0aae-47b5-836e-f6d64597b77e",
   "metadata": {},
   "outputs": [
    {
     "data": {
      "text/plain": [
       "<AxesSubplot:xlabel='foo', ylabel='bar'>"
      ]
     },
     "execution_count": 8,
     "metadata": {},
     "output_type": "execute_result"
    },
    {
     "data": {
      "image/png": "[encoded data removed]",
      "text/plain": [
       "<Figure size 432x288 with 1 Axes>"
      ]
     },
     "metadata": {
      "needs_background": "light"
     },
     "output_type": "display_data"
    }
   ],
   "source": [
    "sample.plot.scatter(x='foo', y='bar')"
   ]
  },
  {
   "cell_type": "code",
   "execution_count": null,
   "id": "92a20754-2111-4088-9487-7389c1c1ca0a",
   "metadata": {},
   "outputs": [],
   "source": []
  },
  {
   "cell_type": "code",
   "execution_count": null,
   "id": "5a642eb1-9dd5-48ee-a9b2-cd758e218fd7",
   "metadata": {},
   "outputs": [],
   "source": []
  }
 ],
 "metadata": {
  "kernelspec": {
   "display_name": "Python 3 (ipykernel)",
   "language": "python",
   "name": "python3"
  },
  "language_info": {
   "codemirror_mode": {
    "name": "ipython",
    "version": 3
   },
   "file_extension": ".py",
   "mimetype": "text/x-python",
   "name": "python",
   "nbconvert_exporter": "python",
   "pygments_lexer": "ipython3",
   "version": "3.9.5"
  }
 },
 "nbformat": 4,
 "nbformat_minor": 5
}
