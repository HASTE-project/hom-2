{
 "cells": [
  {
   "cell_type": "markdown",
   "id": "96af81fb-fb0c-44fc-b1fe-571635798e11",
   "metadata": {},
   "source": [
    "# Example Data Ingress\n",
    "\n",
    "Tiers are just Kafka streams of JSON documents. \n",
    "\n",
    "We can create out input tier by simply writing the JSON documents to the stream."
   ]
  },
  {
   "cell_type": "code",
   "execution_count": 2,
   "id": "23759639-75dd-49fb-b7b3-84995acb6d03",
   "metadata": {},
   "outputs": [
    {
     "name": "stdout",
     "output_type": "stream",
     "text": [
      "Requirement already satisfied: kafka-python==2.0.2 in /usr/local/lib/python3.9/dist-packages (2.0.2)\n"
     ]
    }
   ],
   "source": [
    "!pip install kafka-python==2.0.2"
   ]
  },
  {
   "cell_type": "code",
   "execution_count": 6,
   "id": "9831d69f-6104-4147-955f-df737f074c0c",
   "metadata": {},
   "outputs": [],
   "source": [
    "import json\n",
    "from kafka import KafkaProducer\n",
    "producer = KafkaProducer(bootstrap_servers=\"kafka-service:9092\")"
   ]
  },
  {
   "cell_type": "code",
   "execution_count": 7,
   "id": "9ad90bcc-7992-4418-b828-d2f299e6b622",
   "metadata": {},
   "outputs": [],
   "source": [
    " for i in range (101):\n",
    "        output_topic=\"haste-input-data\"\n",
    "        output_dict= {\"foo\":i/100}\n",
    "        value = json.dumps(output_dict).encode('utf-8')  # needs to be bytes\n",
    "        producer.send(output_topic, value=value)"
   ]
  },
  {
   "cell_type": "code",
   "execution_count": 8,
   "id": "37d9fde6-c24f-4271-babf-eb0eaf5c26b1",
   "metadata": {},
   "outputs": [],
   "source": [
    "producer.close()"
   ]
  },
  {
   "cell_type": "code",
   "execution_count": null,
   "id": "a7c5afb8-8f1b-4922-8470-5be748636fd7",
   "metadata": {},
   "outputs": [],
   "source": []
  }
 ],
 "metadata": {
  "kernelspec": {
   "display_name": "Python 3 (ipykernel)",
   "language": "python",
   "name": "python3"
  },
  "language_info": {
   "codemirror_mode": {
    "name": "ipython",
    "version": 3
   },
   "file_extension": ".py",
   "mimetype": "text/x-python",
   "name": "python",
   "nbconvert_exporter": "python",
   "pygments_lexer": "ipython3",
   "version": "3.9.5"
  }
 },
 "nbformat": 4,
 "nbformat_minor": 5
}
