{
 "cells": [
  {
   "cell_type": "code",
   "execution_count": 1,
   "id": "9868abd7-0d5e-4444-8f50-d3918cfe54bf",
   "metadata": {},
   "outputs": [],
   "source": [
    "def hej(message):\n",
    "    print(message)\n",
    "    message['accept'] = True\n",
    "    return message"
   ]
  },
  {
   "cell_type": "code",
   "execution_count": 2,
   "id": "536ddfd6-53d6-4fd3-a76e-a49c8cb215d8",
   "metadata": {},
   "outputs": [
    {
     "name": "stdout",
     "output_type": "stream",
     "text": [
      "{'foo': 1}\n"
     ]
    },
    {
     "data": {
      "text/plain": [
       "{'accept': True}"
      ]
     },
     "execution_count": 2,
     "metadata": {},
     "output_type": "execute_result"
    }
   ],
   "source": [
    "hej({\"foo\": 1})"
   ]
  },
  {
   "cell_type": "code",
   "execution_count": null,
   "id": "ad7405b5-a493-4677-9f42-fcf7724204dc",
   "metadata": {},
   "outputs": [],
   "source": []
  }
 ],
 "metadata": {
  "kernelspec": {
   "display_name": "Python 3 (ipykernel)",
   "language": "python",
   "name": "python3"
  },
  "language_info": {
   "codemirror_mode": {
    "name": "ipython",
    "version": 3
   },
   "file_extension": ".py",
   "mimetype": "text/x-python",
   "name": "python",
   "nbconvert_exporter": "python",
   "pygments_lexer": "ipython3",
   "version": "3.9.5"
  }
 },
 "nbformat": 4,
 "nbformat_minor": 5
}